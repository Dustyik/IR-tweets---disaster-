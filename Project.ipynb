{
 "cells": [
  {
   "cell_type": "code",
   "execution_count": 2,
   "id": "stuffed-virgin",
   "metadata": {},
   "outputs": [],
   "source": [
    "import pandas as pd"
   ]
  },
  {
   "cell_type": "code",
   "execution_count": 33,
   "metadata": {},
   "outputs": [
    {
     "output_type": "execute_result",
     "data": {
      "text/plain": [
       "(6103, 4)"
      ]
     },
     "metadata": {},
     "execution_count": 33
    }
   ],
   "source": [
    "df = pd.read_fwf(\"signal1m_tweets_qrels\", names=['topic','iteration','document','rel'])\n",
    "\n",
    "df[df.document==645936801232912384]\n",
    "df.shape"
   ]
  },
  {
   "cell_type": "code",
   "execution_count": 7,
   "metadata": {},
   "outputs": [],
   "source": [
    "import tweepy as tw\n",
    "'''\n",
    "if need to log in to the twitter account:\n",
    "username = eugene_tan@mymail.sutd.edu.sg\n",
    "password = P@ssword1\n",
    "'''\n",
    "\n",
    "consumer_key= 'LKvavXktNliE3LL52KNK48oWd'\n",
    "consumer_secret= 'PsSoEz5JRYdrozOe8uBkgphm3YlTipYREexIyJQi4VDVZv9htI'\n",
    "access_token= '1411277462630146057-ATYdgNSGb3EGBFim8w1sQ8kRGOR7QH'\n",
    "access_token_secret= 'S3N1R58XNvrucIOgsKIxZY4CSfngnrd6XHIlWCu0k4PaP'\n",
    "bearer_token= 'AAAAAAAAAAAAAAAAAAAAAOskRQEAAAAA5JKli8luYWK%2BzRTWfn1kLwjv58s%3DWNBJ8KrY0xEwZBqxqLzCjde2fGWM3wBMeq4uyvWoLX5BNfIHHp'\n",
    "\n",
    "auth = tw.OAuthHandler(consumer_key, consumer_secret)\n",
    "auth.set_access_token(access_token, access_token_secret)\n",
    "api = tw.API(auth, wait_on_rate_limit=True)"
   ]
  },
  {
   "cell_type": "code",
   "execution_count": 54,
   "metadata": {},
   "outputs": [
    {
     "output_type": "execute_result",
     "data": {
      "text/plain": [
       "                                  topic  iteration            document  rel  \\\n",
       "0  00ecb565-8dcb-443e-875c-71babdce2269          0  638637447023194112    0   \n",
       "1  00ecb565-8dcb-443e-875c-71babdce2269          0  638727826393444352    1   \n",
       "2  00ecb565-8dcb-443e-875c-71babdce2269          0  639043756038074369    1   \n",
       "3  00ecb565-8dcb-443e-875c-71babdce2269          0  639219133859631104    0   \n",
       "4  00ecb565-8dcb-443e-875c-71babdce2269          0  639325701297041408    1   \n",
       "\n",
       "                                                text  \n",
       "0  Video:  Shippers look to grab a piece of North...  \n",
       "1  Police say woman was driving drunk with kids i...  \n",
       "2  Hit-and-Run Driver Seriously Injures Man in Po...  \n",
       "3  #UPDATE: Man in critical condition after being...  \n",
       "4  A Barrie woman that was run over by a drunk dr...  "
      ],
      "text/html": "<div>\n<style scoped>\n    .dataframe tbody tr th:only-of-type {\n        vertical-align: middle;\n    }\n\n    .dataframe tbody tr th {\n        vertical-align: top;\n    }\n\n    .dataframe thead th {\n        text-align: right;\n    }\n</style>\n<table border=\"1\" class=\"dataframe\">\n  <thead>\n    <tr style=\"text-align: right;\">\n      <th></th>\n      <th>topic</th>\n      <th>iteration</th>\n      <th>document</th>\n      <th>rel</th>\n      <th>text</th>\n    </tr>\n  </thead>\n  <tbody>\n    <tr>\n      <th>0</th>\n      <td>00ecb565-8dcb-443e-875c-71babdce2269</td>\n      <td>0</td>\n      <td>638637447023194112</td>\n      <td>0</td>\n      <td>Video:  Shippers look to grab a piece of North...</td>\n    </tr>\n    <tr>\n      <th>1</th>\n      <td>00ecb565-8dcb-443e-875c-71babdce2269</td>\n      <td>0</td>\n      <td>638727826393444352</td>\n      <td>1</td>\n      <td>Police say woman was driving drunk with kids i...</td>\n    </tr>\n    <tr>\n      <th>2</th>\n      <td>00ecb565-8dcb-443e-875c-71babdce2269</td>\n      <td>0</td>\n      <td>639043756038074369</td>\n      <td>1</td>\n      <td>Hit-and-Run Driver Seriously Injures Man in Po...</td>\n    </tr>\n    <tr>\n      <th>3</th>\n      <td>00ecb565-8dcb-443e-875c-71babdce2269</td>\n      <td>0</td>\n      <td>639219133859631104</td>\n      <td>0</td>\n      <td>#UPDATE: Man in critical condition after being...</td>\n    </tr>\n    <tr>\n      <th>4</th>\n      <td>00ecb565-8dcb-443e-875c-71babdce2269</td>\n      <td>0</td>\n      <td>639325701297041408</td>\n      <td>1</td>\n      <td>A Barrie woman that was run over by a drunk dr...</td>\n    </tr>\n  </tbody>\n</table>\n</div>"
     },
     "metadata": {},
     "execution_count": 54
    }
   ],
   "source": [
    "def get_tweet(id):\n",
    "    output = ''\n",
    "    try:\n",
    "        output = api.get_status(id=id.document).text\n",
    "    except:\n",
    "        pass\n",
    "    return output\n",
    "\n",
    "df['text']=df.apply(lambda x:get_tweet(x), axis=1)\n",
    "\n",
    "df.head()"
   ]
  },
  {
   "cell_type": "code",
   "execution_count": 58,
   "metadata": {},
   "outputs": [],
   "source": []
  },
  {
   "cell_type": "code",
   "execution_count": null,
   "metadata": {},
   "outputs": [],
   "source": [
    "df = df[df.text!='']\n",
    "df.to_csv(\"dataset_scrapped.csv\", header=False)"
   ]
  },
  {
   "cell_type": "code",
   "execution_count": 70,
   "metadata": {},
   "outputs": [
    {
     "output_type": "execute_result",
     "data": {
      "text/plain": [
       "                                  topic  iteration            document  rel  \\\n",
       "0  00ecb565-8dcb-443e-875c-71babdce2269          0  638637447023194112    0   \n",
       "1  00ecb565-8dcb-443e-875c-71babdce2269          0  638727826393444352    1   \n",
       "2  00ecb565-8dcb-443e-875c-71babdce2269          0  639043756038074369    1   \n",
       "3  00ecb565-8dcb-443e-875c-71babdce2269          0  639219133859631104    0   \n",
       "4  00ecb565-8dcb-443e-875c-71babdce2269          0  639325701297041408    1   \n",
       "\n",
       "                                                text  \n",
       "0  Video:  Shippers look to grab a piece of North...  \n",
       "1  Police say woman was driving drunk with kids i...  \n",
       "2  Hit-and-Run Driver Seriously Injures Man in Po...  \n",
       "3  #UPDATE: Man in critical condition after being...  \n",
       "4  A Barrie woman that was run over by a drunk dr...  "
      ],
      "text/html": "<div>\n<style scoped>\n    .dataframe tbody tr th:only-of-type {\n        vertical-align: middle;\n    }\n\n    .dataframe tbody tr th {\n        vertical-align: top;\n    }\n\n    .dataframe thead th {\n        text-align: right;\n    }\n</style>\n<table border=\"1\" class=\"dataframe\">\n  <thead>\n    <tr style=\"text-align: right;\">\n      <th></th>\n      <th>topic</th>\n      <th>iteration</th>\n      <th>document</th>\n      <th>rel</th>\n      <th>text</th>\n    </tr>\n  </thead>\n  <tbody>\n    <tr>\n      <th>0</th>\n      <td>00ecb565-8dcb-443e-875c-71babdce2269</td>\n      <td>0</td>\n      <td>638637447023194112</td>\n      <td>0</td>\n      <td>Video:  Shippers look to grab a piece of North...</td>\n    </tr>\n    <tr>\n      <th>1</th>\n      <td>00ecb565-8dcb-443e-875c-71babdce2269</td>\n      <td>0</td>\n      <td>638727826393444352</td>\n      <td>1</td>\n      <td>Police say woman was driving drunk with kids i...</td>\n    </tr>\n    <tr>\n      <th>2</th>\n      <td>00ecb565-8dcb-443e-875c-71babdce2269</td>\n      <td>0</td>\n      <td>639043756038074369</td>\n      <td>1</td>\n      <td>Hit-and-Run Driver Seriously Injures Man in Po...</td>\n    </tr>\n    <tr>\n      <th>3</th>\n      <td>00ecb565-8dcb-443e-875c-71babdce2269</td>\n      <td>0</td>\n      <td>639219133859631104</td>\n      <td>0</td>\n      <td>#UPDATE: Man in critical condition after being...</td>\n    </tr>\n    <tr>\n      <th>4</th>\n      <td>00ecb565-8dcb-443e-875c-71babdce2269</td>\n      <td>0</td>\n      <td>639325701297041408</td>\n      <td>1</td>\n      <td>A Barrie woman that was run over by a drunk dr...</td>\n    </tr>\n  </tbody>\n</table>\n</div>"
     },
     "metadata": {},
     "execution_count": 70
    }
   ],
   "source": [
    "data = pd.read_csv('dataset_scrapped.csv', names=['topic','iteration','document','rel', 'text'])\n",
    "data.head()"
   ]
  },
  {
   "cell_type": "code",
   "execution_count": 95,
   "metadata": {
    "tags": []
   },
   "outputs": [
    {
     "output_type": "execute_result",
     "data": {
      "text/plain": [
       "['scene',\n",
       " 'from',\n",
       " 'buffalo',\n",
       " 'the',\n",
       " 'new',\n",
       " 'england',\n",
       " 'patriot',\n",
       " 'take',\n",
       " 'on',\n",
       " 'rex',\n",
       " 'ryan',\n",
       " 'and',\n",
       " 'the',\n",
       " 'bill',\n",
       " 'http',\n",
       " 'http']"
      ]
     },
     "metadata": {},
     "execution_count": 95
    }
   ],
   "source": [
    "from nltk.corpus import words\n",
    "from nltk.stem import PorterStemmer\n",
    "from nltk.tokenize import word_tokenize\n",
    "import nltk\n",
    "\n",
    "porter = PorterStemmer() ## stemming reduces the word to root word\n",
    "words = words.words()\n",
    "vsm = {}\n",
    "\n",
    "def stem_lower(word):\n",
    "    return porter.stem(word.lower())\n",
    "\n",
    "for i in list(set(zip(data['document'], data['text']))):\n",
    "    # print(i[0], i[1])\n",
    "    tokens = word_tokenize(i[1])\n",
    "    # print(len(tokens))\n",
    "    tokens = list(filter(lambda x: x.isalpha(), tokens))\n",
    "    # tokens = list(filter(lambda x: x in words, tokens)) ## this removes too much semantics\n",
    "    tokens = list(map(stem_lower, tokens))\n",
    "    # print(len(tokens))\n",
    "    vsm[str(i[0])] = tokens\n",
    "\n",
    "vsm['645687105964912640']"
   ]
  },
  {
   "cell_type": "code",
   "execution_count": 84,
   "metadata": {},
   "outputs": [
    {
     "output_type": "execute_result",
     "data": {
      "text/plain": [
       "1556    Scenes from Buffalo: the New England Patriots ...\n",
       "Name: text, dtype: object"
      ]
     },
     "metadata": {},
     "execution_count": 84
    }
   ],
   "source": [
    "data[data.document==645687105964912640].text\n"
   ]
  },
  {
   "cell_type": "code",
   "execution_count": null,
   "metadata": {},
   "outputs": [],
   "source": []
  }
 ],
 "metadata": {
  "kernelspec": {
   "name": "python3",
   "display_name": "Python 3.7.9 64-bit"
  },
  "language_info": {
   "codemirror_mode": {
    "name": "ipython",
    "version": 3
   },
   "file_extension": ".py",
   "mimetype": "text/x-python",
   "name": "python",
   "nbconvert_exporter": "python",
   "pygments_lexer": "ipython3",
   "version": "3.7.9"
  },
  "interpreter": {
   "hash": "a3334a78060f906efb30753b21a137354a590a32b6998c12cfe16e21065aab06"
  }
 },
 "nbformat": 4,
 "nbformat_minor": 5
}